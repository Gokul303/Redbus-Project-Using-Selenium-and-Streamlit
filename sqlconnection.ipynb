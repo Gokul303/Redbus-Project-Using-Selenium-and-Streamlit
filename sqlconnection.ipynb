{
 "cells": [
  {
   "cell_type": "code",
   "execution_count": 3,
   "id": "285b4c78-e938-4551-9360-83df26b5563e",
   "metadata": {},
   "outputs": [],
   "source": [
    "#importing libraries\n",
    "import pandas as pd\n",
    "import mysql.connector\n",
    "import numpy as np"
   ]
  },
  {
   "cell_type": "code",
   "execution_count": 6,
   "id": "0dc4683a-2638-4d7c-8f46-276c0d2e2b1f",
   "metadata": {},
   "outputs": [
    {
     "data": {
      "text/html": [
       "<div>\n",
       "<style scoped>\n",
       "    .dataframe tbody tr th:only-of-type {\n",
       "        vertical-align: middle;\n",
       "    }\n",
       "\n",
       "    .dataframe tbody tr th {\n",
       "        vertical-align: top;\n",
       "    }\n",
       "\n",
       "    .dataframe thead th {\n",
       "        text-align: right;\n",
       "    }\n",
       "</style>\n",
       "<table border=\"1\" class=\"dataframe\">\n",
       "  <thead>\n",
       "    <tr style=\"text-align: right;\">\n",
       "      <th></th>\n",
       "      <th>Bus_name</th>\n",
       "      <th>Bus_type</th>\n",
       "      <th>Start_time</th>\n",
       "      <th>End_time</th>\n",
       "      <th>Total_duration</th>\n",
       "      <th>Price</th>\n",
       "      <th>Seats_Available</th>\n",
       "      <th>Ratings</th>\n",
       "      <th>Route_link</th>\n",
       "      <th>Route_name</th>\n",
       "    </tr>\n",
       "  </thead>\n",
       "  <tbody>\n",
       "    <tr>\n",
       "      <th>0</th>\n",
       "      <td>APSRTC - 3722</td>\n",
       "      <td>SUPER LUXURY (NON-AC, 2 + 2 PUSH BACK)</td>\n",
       "      <td>14:30</td>\n",
       "      <td>20:45</td>\n",
       "      <td>06h 15m</td>\n",
       "      <td>INR 412</td>\n",
       "      <td>30 Seats available</td>\n",
       "      <td>3.2\\n27</td>\n",
       "      <td>https://www.redbus.in/bus-tickets/hyderabad-to...</td>\n",
       "      <td>Hyderabad to Vijayawada</td>\n",
       "    </tr>\n",
       "    <tr>\n",
       "      <th>1</th>\n",
       "      <td>APSRTC - 3859</td>\n",
       "      <td>DOLPHIN CRUISE (VOLVO / SCANIA A.C Multi Axle)</td>\n",
       "      <td>15:15</td>\n",
       "      <td>21:25</td>\n",
       "      <td>06h 10m</td>\n",
       "      <td>INR 615</td>\n",
       "      <td>32 Seats available</td>\n",
       "      <td>3.1\\n73</td>\n",
       "      <td>https://www.redbus.in/bus-tickets/hyderabad-to...</td>\n",
       "      <td>Hyderabad to Vijayawada</td>\n",
       "    </tr>\n",
       "    <tr>\n",
       "      <th>2</th>\n",
       "      <td>APSRTC - 3356</td>\n",
       "      <td>NIGHT RIDER (SEATER CUM SLEEPER)</td>\n",
       "      <td>15:45</td>\n",
       "      <td>22:45</td>\n",
       "      <td>07h 00m</td>\n",
       "      <td>INR 639</td>\n",
       "      <td>33 Seats available</td>\n",
       "      <td>3.8\\n28</td>\n",
       "      <td>https://www.redbus.in/bus-tickets/hyderabad-to...</td>\n",
       "      <td>Hyderabad to Vijayawada</td>\n",
       "    </tr>\n",
       "    <tr>\n",
       "      <th>3</th>\n",
       "      <td>APSRTC - 3546</td>\n",
       "      <td>AMARAVATHI (VOLVO / SCANIA A.C Multi Axle)</td>\n",
       "      <td>16:15</td>\n",
       "      <td>22:30</td>\n",
       "      <td>06h 15m</td>\n",
       "      <td>INR 615</td>\n",
       "      <td>34 Seats available</td>\n",
       "      <td>3.7\\n86</td>\n",
       "      <td>https://www.redbus.in/bus-tickets/hyderabad-to...</td>\n",
       "      <td>Hyderabad to Vijayawada</td>\n",
       "    </tr>\n",
       "    <tr>\n",
       "      <th>4</th>\n",
       "      <td>APSRTC - 3500</td>\n",
       "      <td>SUPER LUXURY (NON-AC, 2 + 2 PUSH BACK)</td>\n",
       "      <td>16:20</td>\n",
       "      <td>00:45</td>\n",
       "      <td>08h 25m</td>\n",
       "      <td>INR 469</td>\n",
       "      <td>18 Seats available</td>\n",
       "      <td>3.5\\n11</td>\n",
       "      <td>https://www.redbus.in/bus-tickets/hyderabad-to...</td>\n",
       "      <td>Hyderabad to Vijayawada</td>\n",
       "    </tr>\n",
       "    <tr>\n",
       "      <th>...</th>\n",
       "      <td>...</td>\n",
       "      <td>...</td>\n",
       "      <td>...</td>\n",
       "      <td>...</td>\n",
       "      <td>...</td>\n",
       "      <td>...</td>\n",
       "      <td>...</td>\n",
       "      <td>...</td>\n",
       "      <td>...</td>\n",
       "      <td>...</td>\n",
       "    </tr>\n",
       "    <tr>\n",
       "      <th>2358</th>\n",
       "      <td>Satadal Travels</td>\n",
       "      <td>A/C Seater (2+2)</td>\n",
       "      <td>14:56</td>\n",
       "      <td>18:15</td>\n",
       "      <td>03h 19m</td>\n",
       "      <td>INR 170</td>\n",
       "      <td>40 Seats available</td>\n",
       "      <td>3.8</td>\n",
       "      <td>https://www.redbus.in/bus-tickets/kolkata-to-h...</td>\n",
       "      <td>Kolkata to Haldia</td>\n",
       "    </tr>\n",
       "    <tr>\n",
       "      <th>2359</th>\n",
       "      <td>Diamond City Service</td>\n",
       "      <td>A/C Executive (2+3)</td>\n",
       "      <td>15:10</td>\n",
       "      <td>18:55</td>\n",
       "      <td>03h 45m</td>\n",
       "      <td>170</td>\n",
       "      <td>47 Seats available</td>\n",
       "      <td>4.5\\n454</td>\n",
       "      <td>https://www.redbus.in/bus-tickets/kolkata-to-h...</td>\n",
       "      <td>Kolkata to Haldia</td>\n",
       "    </tr>\n",
       "    <tr>\n",
       "      <th>2360</th>\n",
       "      <td>Droupadi Paribahan</td>\n",
       "      <td>A/C Seater (2+3)</td>\n",
       "      <td>14:10</td>\n",
       "      <td>16:58</td>\n",
       "      <td>02h 48m</td>\n",
       "      <td>INR 160</td>\n",
       "      <td>61 Seats available</td>\n",
       "      <td>2.7\\n31</td>\n",
       "      <td>https://www.redbus.in/bus-tickets/kolkata-to-h...</td>\n",
       "      <td>Kolkata to Haldia</td>\n",
       "    </tr>\n",
       "    <tr>\n",
       "      <th>2361</th>\n",
       "      <td>KRISHNAKALI</td>\n",
       "      <td>A/C Seater (2+3)</td>\n",
       "      <td>14:45</td>\n",
       "      <td>17:30</td>\n",
       "      <td>02h 45m</td>\n",
       "      <td>INR 165</td>\n",
       "      <td>61 Seats available</td>\n",
       "      <td>2.2\\n50</td>\n",
       "      <td>https://www.redbus.in/bus-tickets/kolkata-to-h...</td>\n",
       "      <td>Kolkata to Haldia</td>\n",
       "    </tr>\n",
       "    <tr>\n",
       "      <th>2362</th>\n",
       "      <td>Droupadi Bus Service</td>\n",
       "      <td>Non AC Seater (2+3)</td>\n",
       "      <td>16:20</td>\n",
       "      <td>19:10</td>\n",
       "      <td>02h 50m</td>\n",
       "      <td>INR 121</td>\n",
       "      <td>54 Seats available</td>\n",
       "      <td>2.7\\n20</td>\n",
       "      <td>https://www.redbus.in/bus-tickets/kolkata-to-h...</td>\n",
       "      <td>Kolkata to Haldia</td>\n",
       "    </tr>\n",
       "  </tbody>\n",
       "</table>\n",
       "<p>2363 rows × 10 columns</p>\n",
       "</div>"
      ],
      "text/plain": [
       "                  Bus_name                                        Bus_type  \\\n",
       "0            APSRTC - 3722          SUPER LUXURY (NON-AC, 2 + 2 PUSH BACK)   \n",
       "1            APSRTC - 3859  DOLPHIN CRUISE (VOLVO / SCANIA A.C Multi Axle)   \n",
       "2            APSRTC - 3356                NIGHT RIDER (SEATER CUM SLEEPER)   \n",
       "3            APSRTC - 3546      AMARAVATHI (VOLVO / SCANIA A.C Multi Axle)   \n",
       "4            APSRTC - 3500          SUPER LUXURY (NON-AC, 2 + 2 PUSH BACK)   \n",
       "...                    ...                                             ...   \n",
       "2358       Satadal Travels                                A/C Seater (2+2)   \n",
       "2359  Diamond City Service                             A/C Executive (2+3)   \n",
       "2360    Droupadi Paribahan                                A/C Seater (2+3)   \n",
       "2361           KRISHNAKALI                                A/C Seater (2+3)   \n",
       "2362  Droupadi Bus Service                             Non AC Seater (2+3)   \n",
       "\n",
       "     Start_time End_time Total_duration    Price     Seats_Available  \\\n",
       "0         14:30    20:45        06h 15m  INR 412  30 Seats available   \n",
       "1         15:15    21:25        06h 10m  INR 615  32 Seats available   \n",
       "2         15:45    22:45        07h 00m  INR 639  33 Seats available   \n",
       "3         16:15    22:30        06h 15m  INR 615  34 Seats available   \n",
       "4         16:20    00:45        08h 25m  INR 469  18 Seats available   \n",
       "...         ...      ...            ...      ...                 ...   \n",
       "2358      14:56    18:15        03h 19m  INR 170  40 Seats available   \n",
       "2359      15:10    18:55        03h 45m      170  47 Seats available   \n",
       "2360      14:10    16:58        02h 48m  INR 160  61 Seats available   \n",
       "2361      14:45    17:30        02h 45m  INR 165  61 Seats available   \n",
       "2362      16:20    19:10        02h 50m  INR 121  54 Seats available   \n",
       "\n",
       "       Ratings                                         Route_link  \\\n",
       "0      3.2\\n27  https://www.redbus.in/bus-tickets/hyderabad-to...   \n",
       "1      3.1\\n73  https://www.redbus.in/bus-tickets/hyderabad-to...   \n",
       "2      3.8\\n28  https://www.redbus.in/bus-tickets/hyderabad-to...   \n",
       "3      3.7\\n86  https://www.redbus.in/bus-tickets/hyderabad-to...   \n",
       "4      3.5\\n11  https://www.redbus.in/bus-tickets/hyderabad-to...   \n",
       "...        ...                                                ...   \n",
       "2358       3.8  https://www.redbus.in/bus-tickets/kolkata-to-h...   \n",
       "2359  4.5\\n454  https://www.redbus.in/bus-tickets/kolkata-to-h...   \n",
       "2360   2.7\\n31  https://www.redbus.in/bus-tickets/kolkata-to-h...   \n",
       "2361   2.2\\n50  https://www.redbus.in/bus-tickets/kolkata-to-h...   \n",
       "2362   2.7\\n20  https://www.redbus.in/bus-tickets/kolkata-to-h...   \n",
       "\n",
       "                   Route_name  \n",
       "0     Hyderabad to Vijayawada  \n",
       "1     Hyderabad to Vijayawada  \n",
       "2     Hyderabad to Vijayawada  \n",
       "3     Hyderabad to Vijayawada  \n",
       "4     Hyderabad to Vijayawada  \n",
       "...                       ...  \n",
       "2358        Kolkata to Haldia  \n",
       "2359        Kolkata to Haldia  \n",
       "2360        Kolkata to Haldia  \n",
       "2361        Kolkata to Haldia  \n",
       "2362        Kolkata to Haldia  \n",
       "\n",
       "[2363 rows x 10 columns]"
      ]
     },
     "execution_count": 6,
     "metadata": {},
     "output_type": "execute_result"
    }
   ],
   "source": [
    "# csv to dataframe\n",
    "df_buses_1=pd.read_csv(r\"C:\\Users\\gokul\\Desktop\\capstoneproject\\redbus\\df_buses_1.csv\")\n",
    "df_buses_2=pd.read_csv(r\"C:\\Users\\gokul\\Desktop\\capstoneproject\\redbus\\df_buses_2.csv\")\n",
    "df_buses_3=pd.read_csv(r\"C:\\Users\\gokul\\Desktop\\capstoneproject\\redbus\\df_buses_3.csv\")\n",
    "df_buses_4=pd.read_csv(r\"C:\\Users\\gokul\\Desktop\\capstoneproject\\redbus\\df_buses_4.csv\")\n",
    "df_buses_5=pd.read_csv(r\"C:\\Users\\gokul\\Desktop\\capstoneproject\\redbus\\df_buses_5.csv\")\n",
    "df_buses_6=pd.read_csv(r\"C:\\Users\\gokul\\Desktop\\capstoneproject\\redbus\\df_buses6.csv\")\n",
    "df_buses_7=pd.read_csv(r\"C:\\Users\\gokul\\Desktop\\capstoneproject\\redbus\\df_buses7.csv\")\n",
    "df_buses_8=pd.read_csv(r\"C:\\Users\\gokul\\Desktop\\capstoneproject\\redbus\\df_buses8.csv\")\n",
    "df_buses_9=pd.read_csv(r\"C:\\Users\\gokul\\Desktop\\capstoneproject\\redbus\\df_buses9.csv\")\n",
    "df_buses_10=pd.read_csv(r\"C:\\Users\\gokul\\Desktop\\capstoneproject\\redbus\\df_buses10.csv\")\n",
    "\n",
    "Final_df=pd.concat([df_buses_1,df_buses_2,df_buses_3,df_buses_4,df_buses_5,df_buses_6,\n",
    "                    df_buses_7,df_buses_8,df_buses_9,df_buses_10],ignore_index=True)\n",
    "Final_df"
   ]
  },
  {
   "cell_type": "code",
   "execution_count": null,
   "id": "089534c1-6449-4c87-b48f-1c6f58cef4e8",
   "metadata": {},
   "outputs": [],
   "source": []
  },
  {
   "cell_type": "code",
   "execution_count": 7,
   "id": "baf4c693-3d0a-4f87-8a05-42e31c79177f",
   "metadata": {},
   "outputs": [
    {
     "name": "stdout",
     "output_type": "stream",
     "text": [
      "<class 'pandas.core.frame.DataFrame'>\n",
      "RangeIndex: 2363 entries, 0 to 2362\n",
      "Data columns (total 10 columns):\n",
      " #   Column           Non-Null Count  Dtype \n",
      "---  ------           --------------  ----- \n",
      " 0   Bus_name         2363 non-null   object\n",
      " 1   Bus_type         2363 non-null   object\n",
      " 2   Start_time       2363 non-null   object\n",
      " 3   End_time         2363 non-null   object\n",
      " 4   Total_duration   2363 non-null   object\n",
      " 5   Price            2363 non-null   object\n",
      " 6   Seats_Available  2363 non-null   object\n",
      " 7   Ratings          2363 non-null   object\n",
      " 8   Route_link       2363 non-null   object\n",
      " 9   Route_name       2363 non-null   object\n",
      "dtypes: object(10)\n",
      "memory usage: 184.7+ KB\n"
     ]
    }
   ],
   "source": [
    "Final_df.info()"
   ]
  },
  {
   "cell_type": "code",
   "execution_count": 8,
   "id": "cd45b8f3-37e1-4d6c-b55e-42e0370f24b8",
   "metadata": {},
   "outputs": [
    {
     "data": {
      "text/plain": [
       "0       412.0\n",
       "1       615.0\n",
       "2       639.0\n",
       "3       615.0\n",
       "4       469.0\n",
       "        ...  \n",
       "2358    170.0\n",
       "2359    170.0\n",
       "2360    160.0\n",
       "2361    165.0\n",
       "2362    121.0\n",
       "Name: Price, Length: 2363, dtype: float64"
      ]
     },
     "execution_count": 8,
     "metadata": {},
     "output_type": "execute_result"
    }
   ],
   "source": [
    "Final_df[\"Price\"]=Final_df[\"Price\"].str.replace(\"INR\",\"\")\n",
    "Final_df[\"Price\"]=Final_df[\"Price\"].astype(float)\n",
    "Final_df[\"Price\"].fillna(0) "
   ]
  },
  {
   "cell_type": "code",
   "execution_count": 10,
   "id": "48c468f6-a74d-48ac-9dd6-41706e54508f",
   "metadata": {},
   "outputs": [
    {
     "name": "stderr",
     "output_type": "stream",
     "text": [
      "C:\\Users\\gokul\\AppData\\Local\\Temp\\ipykernel_7948\\2582007703.py:5: FutureWarning: A value is trying to be set on a copy of a DataFrame or Series through chained assignment using an inplace method.\n",
      "The behavior will change in pandas 3.0. This inplace method will never work because the intermediate object on which we are setting values always behaves as a copy.\n",
      "\n",
      "For example, when doing 'df[col].method(value, inplace=True)', try using 'df.method({col: value}, inplace=True)' or df[col] = df[col].method(value) instead, to perform the operation inplace on the original object.\n",
      "\n",
      "\n",
      "  Final_df[\"Ratings\"].fillna(0,inplace=True)\n"
     ]
    }
   ],
   "source": [
    "Final_df[\"Ratings\"]=Final_df[\"Ratings\"].str.replace(\"New\",\"\")\n",
    "Final_df[\"Ratings\"]=Final_df[\"Ratings\"].str.strip()\n",
    "Final_df[\"Ratings\"]=Final_df[\"Ratings\"].str.split().str[0]\n",
    "Final_df[\"Ratings\"] = pd.to_numeric(Final_df[\"Ratings\"], errors='coerce')\n",
    "Final_df[\"Ratings\"].fillna(0,inplace=True) "
   ]
  },
  {
   "cell_type": "code",
   "execution_count": 11,
   "id": "1aa4977d-9cd6-4400-a37e-5c11f4e0e92a",
   "metadata": {},
   "outputs": [
    {
     "name": "stdout",
     "output_type": "stream",
     "text": [
      "<class 'pandas.core.frame.DataFrame'>\n",
      "RangeIndex: 2363 entries, 0 to 2362\n",
      "Data columns (total 10 columns):\n",
      " #   Column           Non-Null Count  Dtype  \n",
      "---  ------           --------------  -----  \n",
      " 0   Bus_name         2363 non-null   object \n",
      " 1   Bus_type         2363 non-null   object \n",
      " 2   Start_time       2363 non-null   object \n",
      " 3   End_time         2363 non-null   object \n",
      " 4   Total_duration   2363 non-null   object \n",
      " 5   Price            2363 non-null   float64\n",
      " 6   Seats_Available  2363 non-null   object \n",
      " 7   Ratings          2363 non-null   float64\n",
      " 8   Route_link       2363 non-null   object \n",
      " 9   Route_name       2363 non-null   object \n",
      "dtypes: float64(2), object(8)\n",
      "memory usage: 184.7+ KB\n"
     ]
    }
   ],
   "source": [
    "Final_df.info()"
   ]
  },
  {
   "cell_type": "code",
   "execution_count": 12,
   "id": "75703c5a-add3-43c2-b607-ae00d7bc8546",
   "metadata": {},
   "outputs": [],
   "source": [
    "Final_df = Final_df[Final_df[\"Price\"] <= 7000]"
   ]
  },
  {
   "cell_type": "code",
   "execution_count": 13,
   "id": "ad3b1fe0-4643-447c-82b0-0e7e50093f37",
   "metadata": {},
   "outputs": [],
   "source": [
    "# replacing the nan value\n",
    "Final_df = Final_df.replace({np.nan: None})"
   ]
  },
  {
   "cell_type": "code",
   "execution_count": 14,
   "id": "f5c5e505-f1a3-4587-9747-2b336aade460",
   "metadata": {},
   "outputs": [],
   "source": [
    "# change dataframe to csv\n",
    "path=r\"C:\\Users\\gokul\\Desktop\\capstoneproject\\redbus\\final_busdetails_df.csv\"\n",
    "Final_df.to_csv(path,index=False)"
   ]
  },
  {
   "cell_type": "markdown",
   "id": "1ecd1430-83d9-47bc-bc37-ca3cb5235c56",
   "metadata": {},
   "source": [
    "# Create Sql connection"
   ]
  },
  {
   "cell_type": "code",
   "execution_count": 15,
   "id": "f2d2a9a8-3db2-4214-bca9-4c145efea21e",
   "metadata": {},
   "outputs": [
    {
     "data": {
      "text/plain": [
       "<pymysql.cursors.Cursor at 0x1f041f99400>"
      ]
     },
     "execution_count": 15,
     "metadata": {},
     "output_type": "execute_result"
    }
   ],
   "source": [
    "import pymysql\n",
    "connection = pymysql.connect(\n",
    "    host='localhost',  # Your host\n",
    "    user='root',       # Your MySQL username\n",
    "    password='123456789',  # Your MySQL password\n",
    "    \n",
    ")\n",
    "mycursor = connection.cursor()\n",
    "mycursor"
   ]
  },
  {
   "cell_type": "code",
   "execution_count": 17,
   "id": "c1d9454a-8596-4f29-9414-6c5bf918d9c3",
   "metadata": {},
   "outputs": [
    {
     "data": {
      "text/plain": [
       "1"
      ]
     },
     "execution_count": 17,
     "metadata": {},
     "output_type": "execute_result"
    }
   ],
   "source": [
    "mycursor.execute(\"CREATE DATABASE IF NOT EXISTS RED_BUS_DETAILS\")"
   ]
  },
  {
   "cell_type": "code",
   "execution_count": 21,
   "id": "8b68cb1f-6488-4346-9ca4-ac317ea6f0e3",
   "metadata": {},
   "outputs": [
    {
     "data": {
      "text/plain": [
       "0"
      ]
     },
     "execution_count": 21,
     "metadata": {},
     "output_type": "execute_result"
    }
   ],
   "source": [
    "query = \"drop database RED_BUS_DETAILS\"\n",
    "mycursor.execute(query)"
   ]
  },
  {
   "cell_type": "code",
   "execution_count": 23,
   "id": "15b61e6c-a150-4d53-9523-f5424f55236e",
   "metadata": {},
   "outputs": [
    {
     "name": "stdout",
     "output_type": "stream",
     "text": [
      "Table Created successfully\n"
     ]
    }
   ],
   "source": [
    "# Table Creation\n",
    "mycursor.execute(\"CREATE DATABASE IF NOT EXISTS RED_BUS_DETAILS\")\n",
    "mycursor.execute(\"USE RED_BUS_DETAILS\")\n",
    "mycursor.execute('''CREATE TABLE IF NOT EXISTS bus_details(\n",
    "                  ID INT AUTO_INCREMENT PRIMARY KEY,\n",
    "                  Bus_name VARCHAR(255) NOT NULL,\n",
    "                  Bus_type VARCHAR(255) NOT NULL,\n",
    "                  Start_time VARCHAR(255) NOT NULL,\n",
    "                  End_time VARCHAR(255) NOT NULL,\n",
    "                  Total_duration VARCHAR(255) NOT NULL,\n",
    "                  Price FLOAT NULL,\n",
    "                  Seats_Available VARCHAR(255) NOT NULL,\n",
    "                  Ratings Float NULL,\n",
    "                  Route_link VARCHAR(255) NULL,\n",
    "                  Route_name VARCHAR(255) NULL\n",
    "                  )''')\n",
    "print(\"Table Created successfully\")"
   ]
  },
  {
   "cell_type": "code",
   "execution_count": 26,
   "id": "973d6cc1-354c-45c9-a1d1-5bcd49f2b22b",
   "metadata": {},
   "outputs": [
    {
     "name": "stdout",
     "output_type": "stream",
     "text": [
      "Values inserted successfully\n"
     ]
    }
   ],
   "source": [
    "# SQL query to insert data into bus_details table\n",
    "insert_query = '''INSERT INTO bus_details(\n",
    "                    Bus_name,\n",
    "                    Bus_type,\n",
    "                    Start_time,\n",
    "                    End_time,\n",
    "                    Total_duration,\n",
    "                    Price,\n",
    "                    Seats_Available,\n",
    "                    Ratings,\n",
    "                    Route_link,\n",
    "                    Route_name)\n",
    "                  VALUES(%s, %s, %s, %s, %s, %s, %s, %s, %s, %s)'''\n",
    "data = Final_df.values.tolist()\n",
    "\n",
    "mycursor.executemany(insert_query, data)\n",
    "\n",
    "connection.commit()\n",
    "\n",
    "print(\"Values inserted successfully\")"
   ]
  },
  {
   "cell_type": "code",
   "execution_count": null,
   "id": "4cda3d42-66d2-4910-a1d9-27cf127d5dd1",
   "metadata": {},
   "outputs": [],
   "source": []
  }
 ],
 "metadata": {
  "kernelspec": {
   "display_name": "Python 3 (ipykernel)",
   "language": "python",
   "name": "python3"
  },
  "language_info": {
   "codemirror_mode": {
    "name": "ipython",
    "version": 3
   },
   "file_extension": ".py",
   "mimetype": "text/x-python",
   "name": "python",
   "nbconvert_exporter": "python",
   "pygments_lexer": "ipython3",
   "version": "3.13.0"
  }
 },
 "nbformat": 4,
 "nbformat_minor": 5
}
