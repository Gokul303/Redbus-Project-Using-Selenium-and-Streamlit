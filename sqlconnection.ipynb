{
 "cells": [
  {
   "cell_type": "code",
   "execution_count": 2,
   "id": "285b4c78-e938-4551-9360-83df26b5563e",
   "metadata": {},
   "outputs": [],
   "source": [
    "#importing libraries\n",
    "import pandas as pd\n",
    "import mysql.connector\n",
    "import numpy as np"
   ]
  },
  {
   "cell_type": "code",
   "execution_count": 3,
   "id": "0dc4683a-2638-4d7c-8f46-276c0d2e2b1f",
   "metadata": {},
   "outputs": [
    {
     "data": {
      "text/html": [
       "<div>\n",
       "<style scoped>\n",
       "    .dataframe tbody tr th:only-of-type {\n",
       "        vertical-align: middle;\n",
       "    }\n",
       "\n",
       "    .dataframe tbody tr th {\n",
       "        vertical-align: top;\n",
       "    }\n",
       "\n",
       "    .dataframe thead th {\n",
       "        text-align: right;\n",
       "    }\n",
       "</style>\n",
       "<table border=\"1\" class=\"dataframe\">\n",
       "  <thead>\n",
       "    <tr style=\"text-align: right;\">\n",
       "      <th></th>\n",
       "      <th>Bus_name</th>\n",
       "      <th>Bus_type</th>\n",
       "      <th>Start_time</th>\n",
       "      <th>End_time</th>\n",
       "      <th>Total_duration</th>\n",
       "      <th>Price</th>\n",
       "      <th>Seats_Available</th>\n",
       "      <th>Ratings</th>\n",
       "      <th>Route_link</th>\n",
       "      <th>Route_name</th>\n",
       "    </tr>\n",
       "  </thead>\n",
       "  <tbody>\n",
       "    <tr>\n",
       "      <th>0</th>\n",
       "      <td>APSRTC - 3722</td>\n",
       "      <td>SUPER LUXURY (NON-AC, 2 + 2 PUSH BACK)</td>\n",
       "      <td>14:30</td>\n",
       "      <td>20:45</td>\n",
       "      <td>06h 15m</td>\n",
       "      <td>INR 412</td>\n",
       "      <td>30 Seats available</td>\n",
       "      <td>3.2\\n27</td>\n",
       "      <td>https://www.redbus.in/bus-tickets/hyderabad-to...</td>\n",
       "      <td>Hyderabad to Vijayawada</td>\n",
       "    </tr>\n",
       "    <tr>\n",
       "      <th>1</th>\n",
       "      <td>APSRTC - 3859</td>\n",
       "      <td>DOLPHIN CRUISE (VOLVO / SCANIA A.C Multi Axle)</td>\n",
       "      <td>15:15</td>\n",
       "      <td>21:25</td>\n",
       "      <td>06h 10m</td>\n",
       "      <td>INR 615</td>\n",
       "      <td>32 Seats available</td>\n",
       "      <td>3.1\\n73</td>\n",
       "      <td>https://www.redbus.in/bus-tickets/hyderabad-to...</td>\n",
       "      <td>Hyderabad to Vijayawada</td>\n",
       "    </tr>\n",
       "    <tr>\n",
       "      <th>2</th>\n",
       "      <td>APSRTC - 3356</td>\n",
       "      <td>NIGHT RIDER (SEATER CUM SLEEPER)</td>\n",
       "      <td>15:45</td>\n",
       "      <td>22:45</td>\n",
       "      <td>07h 00m</td>\n",
       "      <td>INR 639</td>\n",
       "      <td>33 Seats available</td>\n",
       "      <td>3.8\\n28</td>\n",
       "      <td>https://www.redbus.in/bus-tickets/hyderabad-to...</td>\n",
       "      <td>Hyderabad to Vijayawada</td>\n",
       "    </tr>\n",
       "    <tr>\n",
       "      <th>3</th>\n",
       "      <td>APSRTC - 3546</td>\n",
       "      <td>AMARAVATHI (VOLVO / SCANIA A.C Multi Axle)</td>\n",
       "      <td>16:15</td>\n",
       "      <td>22:30</td>\n",
       "      <td>06h 15m</td>\n",
       "      <td>INR 615</td>\n",
       "      <td>34 Seats available</td>\n",
       "      <td>3.7\\n86</td>\n",
       "      <td>https://www.redbus.in/bus-tickets/hyderabad-to...</td>\n",
       "      <td>Hyderabad to Vijayawada</td>\n",
       "    </tr>\n",
       "    <tr>\n",
       "      <th>4</th>\n",
       "      <td>APSRTC - 3500</td>\n",
       "      <td>SUPER LUXURY (NON-AC, 2 + 2 PUSH BACK)</td>\n",
       "      <td>16:20</td>\n",
       "      <td>00:45</td>\n",
       "      <td>08h 25m</td>\n",
       "      <td>INR 469</td>\n",
       "      <td>18 Seats available</td>\n",
       "      <td>3.5\\n11</td>\n",
       "      <td>https://www.redbus.in/bus-tickets/hyderabad-to...</td>\n",
       "      <td>Hyderabad to Vijayawada</td>\n",
       "    </tr>\n",
       "    <tr>\n",
       "      <th>...</th>\n",
       "      <td>...</td>\n",
       "      <td>...</td>\n",
       "      <td>...</td>\n",
       "      <td>...</td>\n",
       "      <td>...</td>\n",
       "      <td>...</td>\n",
       "      <td>...</td>\n",
       "      <td>...</td>\n",
       "      <td>...</td>\n",
       "      <td>...</td>\n",
       "    </tr>\n",
       "    <tr>\n",
       "      <th>2358</th>\n",
       "      <td>Satadal Travels</td>\n",
       "      <td>A/C Seater (2+2)</td>\n",
       "      <td>14:56</td>\n",
       "      <td>18:15</td>\n",
       "      <td>03h 19m</td>\n",
       "      <td>INR 170</td>\n",
       "      <td>40 Seats available</td>\n",
       "      <td>3.8</td>\n",
       "      <td>https://www.redbus.in/bus-tickets/kolkata-to-h...</td>\n",
       "      <td>Kolkata to Haldia</td>\n",
       "    </tr>\n",
       "    <tr>\n",
       "      <th>2359</th>\n",
       "      <td>Diamond City Service</td>\n",
       "      <td>A/C Executive (2+3)</td>\n",
       "      <td>15:10</td>\n",
       "      <td>18:55</td>\n",
       "      <td>03h 45m</td>\n",
       "      <td>170</td>\n",
       "      <td>47 Seats available</td>\n",
       "      <td>4.5\\n454</td>\n",
       "      <td>https://www.redbus.in/bus-tickets/kolkata-to-h...</td>\n",
       "      <td>Kolkata to Haldia</td>\n",
       "    </tr>\n",
       "    <tr>\n",
       "      <th>2360</th>\n",
       "      <td>Droupadi Paribahan</td>\n",
       "      <td>A/C Seater (2+3)</td>\n",
       "      <td>14:10</td>\n",
       "      <td>16:58</td>\n",
       "      <td>02h 48m</td>\n",
       "      <td>INR 160</td>\n",
       "      <td>61 Seats available</td>\n",
       "      <td>2.7\\n31</td>\n",
       "      <td>https://www.redbus.in/bus-tickets/kolkata-to-h...</td>\n",
       "      <td>Kolkata to Haldia</td>\n",
       "    </tr>\n",
       "    <tr>\n",
       "      <th>2361</th>\n",
       "      <td>KRISHNAKALI</td>\n",
       "      <td>A/C Seater (2+3)</td>\n",
       "      <td>14:45</td>\n",
       "      <td>17:30</td>\n",
       "      <td>02h 45m</td>\n",
       "      <td>INR 165</td>\n",
       "      <td>61 Seats available</td>\n",
       "      <td>2.2\\n50</td>\n",
       "      <td>https://www.redbus.in/bus-tickets/kolkata-to-h...</td>\n",
       "      <td>Kolkata to Haldia</td>\n",
       "    </tr>\n",
       "    <tr>\n",
       "      <th>2362</th>\n",
       "      <td>Droupadi Bus Service</td>\n",
       "      <td>Non AC Seater (2+3)</td>\n",
       "      <td>16:20</td>\n",
       "      <td>19:10</td>\n",
       "      <td>02h 50m</td>\n",
       "      <td>INR 121</td>\n",
       "      <td>54 Seats available</td>\n",
       "      <td>2.7\\n20</td>\n",
       "      <td>https://www.redbus.in/bus-tickets/kolkata-to-h...</td>\n",
       "      <td>Kolkata to Haldia</td>\n",
       "    </tr>\n",
       "  </tbody>\n",
       "</table>\n",
       "<p>2363 rows × 10 columns</p>\n",
       "</div>"
      ],
      "text/plain": [
       "                  Bus_name                                        Bus_type  \\\n",
       "0            APSRTC - 3722          SUPER LUXURY (NON-AC, 2 + 2 PUSH BACK)   \n",
       "1            APSRTC - 3859  DOLPHIN CRUISE (VOLVO / SCANIA A.C Multi Axle)   \n",
       "2            APSRTC - 3356                NIGHT RIDER (SEATER CUM SLEEPER)   \n",
       "3            APSRTC - 3546      AMARAVATHI (VOLVO / SCANIA A.C Multi Axle)   \n",
       "4            APSRTC - 3500          SUPER LUXURY (NON-AC, 2 + 2 PUSH BACK)   \n",
       "...                    ...                                             ...   \n",
       "2358       Satadal Travels                                A/C Seater (2+2)   \n",
       "2359  Diamond City Service                             A/C Executive (2+3)   \n",
       "2360    Droupadi Paribahan                                A/C Seater (2+3)   \n",
       "2361           KRISHNAKALI                                A/C Seater (2+3)   \n",
       "2362  Droupadi Bus Service                             Non AC Seater (2+3)   \n",
       "\n",
       "     Start_time End_time Total_duration    Price     Seats_Available  \\\n",
       "0         14:30    20:45        06h 15m  INR 412  30 Seats available   \n",
       "1         15:15    21:25        06h 10m  INR 615  32 Seats available   \n",
       "2         15:45    22:45        07h 00m  INR 639  33 Seats available   \n",
       "3         16:15    22:30        06h 15m  INR 615  34 Seats available   \n",
       "4         16:20    00:45        08h 25m  INR 469  18 Seats available   \n",
       "...         ...      ...            ...      ...                 ...   \n",
       "2358      14:56    18:15        03h 19m  INR 170  40 Seats available   \n",
       "2359      15:10    18:55        03h 45m      170  47 Seats available   \n",
       "2360      14:10    16:58        02h 48m  INR 160  61 Seats available   \n",
       "2361      14:45    17:30        02h 45m  INR 165  61 Seats available   \n",
       "2362      16:20    19:10        02h 50m  INR 121  54 Seats available   \n",
       "\n",
       "       Ratings                                         Route_link  \\\n",
       "0      3.2\\n27  https://www.redbus.in/bus-tickets/hyderabad-to...   \n",
       "1      3.1\\n73  https://www.redbus.in/bus-tickets/hyderabad-to...   \n",
       "2      3.8\\n28  https://www.redbus.in/bus-tickets/hyderabad-to...   \n",
       "3      3.7\\n86  https://www.redbus.in/bus-tickets/hyderabad-to...   \n",
       "4      3.5\\n11  https://www.redbus.in/bus-tickets/hyderabad-to...   \n",
       "...        ...                                                ...   \n",
       "2358       3.8  https://www.redbus.in/bus-tickets/kolkata-to-h...   \n",
       "2359  4.5\\n454  https://www.redbus.in/bus-tickets/kolkata-to-h...   \n",
       "2360   2.7\\n31  https://www.redbus.in/bus-tickets/kolkata-to-h...   \n",
       "2361   2.2\\n50  https://www.redbus.in/bus-tickets/kolkata-to-h...   \n",
       "2362   2.7\\n20  https://www.redbus.in/bus-tickets/kolkata-to-h...   \n",
       "\n",
       "                   Route_name  \n",
       "0     Hyderabad to Vijayawada  \n",
       "1     Hyderabad to Vijayawada  \n",
       "2     Hyderabad to Vijayawada  \n",
       "3     Hyderabad to Vijayawada  \n",
       "4     Hyderabad to Vijayawada  \n",
       "...                       ...  \n",
       "2358        Kolkata to Haldia  \n",
       "2359        Kolkata to Haldia  \n",
       "2360        Kolkata to Haldia  \n",
       "2361        Kolkata to Haldia  \n",
       "2362        Kolkata to Haldia  \n",
       "\n",
       "[2363 rows x 10 columns]"
      ]
     },
     "execution_count": 3,
     "metadata": {},
     "output_type": "execute_result"
    }
   ],
   "source": [
    "# csv to dataframe\n",
    "df_buses_1=pd.read_csv(r\"C:\\Users\\gokul\\Desktop\\capstoneproject\\redbus\\df_buses_1.csv\")\n",
    "df_buses_2=pd.read_csv(r\"C:\\Users\\gokul\\Desktop\\capstoneproject\\redbus\\df_buses_2.csv\")\n",
    "df_buses_3=pd.read_csv(r\"C:\\Users\\gokul\\Desktop\\capstoneproject\\redbus\\df_buses_3.csv\")\n",
    "df_buses_4=pd.read_csv(r\"C:\\Users\\gokul\\Desktop\\capstoneproject\\redbus\\df_buses_4.csv\")\n",
    "df_buses_5=pd.read_csv(r\"C:\\Users\\gokul\\Desktop\\capstoneproject\\redbus\\df_buses_5.csv\")\n",
    "df_buses_6=pd.read_csv(r\"C:\\Users\\gokul\\Desktop\\capstoneproject\\redbus\\df_buses6.csv\")\n",
    "df_buses_7=pd.read_csv(r\"C:\\Users\\gokul\\Desktop\\capstoneproject\\redbus\\df_buses7.csv\")\n",
    "df_buses_8=pd.read_csv(r\"C:\\Users\\gokul\\Desktop\\capstoneproject\\redbus\\df_buses8.csv\")\n",
    "df_buses_9=pd.read_csv(r\"C:\\Users\\gokul\\Desktop\\capstoneproject\\redbus\\df_buses9.csv\")\n",
    "df_buses_10=pd.read_csv(r\"C:\\Users\\gokul\\Desktop\\capstoneproject\\redbus\\df_buses10.csv\")\n",
    "\n",
    "Final_df=pd.concat([df_buses_1,df_buses_2,df_buses_3,df_buses_4,df_buses_5,df_buses_6,\n",
    "                    df_buses_7,df_buses_8,df_buses_9,df_buses_10],ignore_index=True)\n",
    "Final_df"
   ]
  },
  {
   "cell_type": "code",
   "execution_count": 4,
   "id": "089534c1-6449-4c87-b48f-1c6f58cef4e8",
   "metadata": {},
   "outputs": [
    {
     "data": {
      "text/plain": [
       "0       30 Seats available\n",
       "1       32 Seats available\n",
       "2       33 Seats available\n",
       "3       34 Seats available\n",
       "4       18 Seats available\n",
       "               ...        \n",
       "2358    40 Seats available\n",
       "2359    47 Seats available\n",
       "2360    61 Seats available\n",
       "2361    61 Seats available\n",
       "2362    54 Seats available\n",
       "Name: Seats_Available, Length: 2363, dtype: object"
      ]
     },
     "execution_count": 4,
     "metadata": {},
     "output_type": "execute_result"
    }
   ],
   "source": [
    "Final_df[\"Seats_Available\"]"
   ]
  },
  {
   "cell_type": "code",
   "execution_count": 5,
   "id": "6e1ca299-afe4-468c-9942-9312177a801d",
   "metadata": {},
   "outputs": [],
   "source": [
    "Final_df[\"Seats_Available\"] = Final_df[\"Seats_Available\"].astype(str).str.extract(r'(\\d+)').astype(int)"
   ]
  },
  {
   "cell_type": "code",
   "execution_count": 6,
   "id": "f17ccc18-767c-45bd-a0cc-3619d0cd6db2",
   "metadata": {},
   "outputs": [
    {
     "data": {
      "text/plain": [
       "0       30\n",
       "1       32\n",
       "2       33\n",
       "3       34\n",
       "4       18\n",
       "        ..\n",
       "2358    40\n",
       "2359    47\n",
       "2360    61\n",
       "2361    61\n",
       "2362    54\n",
       "Name: Seats_Available, Length: 2363, dtype: int64"
      ]
     },
     "execution_count": 6,
     "metadata": {},
     "output_type": "execute_result"
    }
   ],
   "source": [
    "Final_df[\"Seats_Available\"]"
   ]
  },
  {
   "cell_type": "code",
   "execution_count": 7,
   "id": "baf4c693-3d0a-4f87-8a05-42e31c79177f",
   "metadata": {},
   "outputs": [
    {
     "data": {
      "text/plain": [
       "0        3.2\\n27\n",
       "1        3.1\\n73\n",
       "2        3.8\\n28\n",
       "3        3.7\\n86\n",
       "4        3.5\\n11\n",
       "          ...   \n",
       "2358         3.8\n",
       "2359    4.5\\n454\n",
       "2360     2.7\\n31\n",
       "2361     2.2\\n50\n",
       "2362     2.7\\n20\n",
       "Name: Ratings, Length: 2363, dtype: object"
      ]
     },
     "execution_count": 7,
     "metadata": {},
     "output_type": "execute_result"
    }
   ],
   "source": [
    "Final_df[\"Ratings\"]"
   ]
  },
  {
   "cell_type": "code",
   "execution_count": 8,
   "id": "cd45b8f3-37e1-4d6c-b55e-42e0370f24b8",
   "metadata": {},
   "outputs": [
    {
     "data": {
      "text/plain": [
       "0       412.0\n",
       "1       615.0\n",
       "2       639.0\n",
       "3       615.0\n",
       "4       469.0\n",
       "        ...  \n",
       "2358    170.0\n",
       "2359    170.0\n",
       "2360    160.0\n",
       "2361    165.0\n",
       "2362    121.0\n",
       "Name: Price, Length: 2363, dtype: float64"
      ]
     },
     "execution_count": 8,
     "metadata": {},
     "output_type": "execute_result"
    }
   ],
   "source": [
    "Final_df[\"Price\"]=Final_df[\"Price\"].str.replace(\"INR\",\"\")\n",
    "Final_df[\"Price\"]=Final_df[\"Price\"].astype(float)\n",
    "Final_df[\"Price\"].fillna(0) "
   ]
  },
  {
   "cell_type": "code",
   "execution_count": 10,
   "id": "48c468f6-a74d-48ac-9dd6-41706e54508f",
   "metadata": {},
   "outputs": [],
   "source": [
    "Final_df[\"Ratings\"]=Final_df[\"Ratings\"].str.replace(\"New\",\"\")\n",
    "Final_df[\"Ratings\"]=Final_df[\"Ratings\"].str.strip()\n",
    "Final_df[\"Ratings\"]=Final_df[\"Ratings\"].str.split().str[0]\n",
    "Final_df[\"Ratings\"] = pd.to_numeric(Final_df[\"Ratings\"], errors='coerce')\n",
    "Final_df[\"Ratings\"] = Final_df[\"Ratings\"].fillna(0)\n"
   ]
  },
  {
   "cell_type": "code",
   "execution_count": 11,
   "id": "1aa4977d-9cd6-4400-a37e-5c11f4e0e92a",
   "metadata": {},
   "outputs": [
    {
     "data": {
      "text/plain": [
       "0       3.2\n",
       "1       3.1\n",
       "2       3.8\n",
       "3       3.7\n",
       "4       3.5\n",
       "       ... \n",
       "2358    3.8\n",
       "2359    4.5\n",
       "2360    2.7\n",
       "2361    2.2\n",
       "2362    2.7\n",
       "Name: Ratings, Length: 2363, dtype: float64"
      ]
     },
     "execution_count": 11,
     "metadata": {},
     "output_type": "execute_result"
    }
   ],
   "source": [
    "Final_df[\"Ratings\"]"
   ]
  },
  {
   "cell_type": "code",
   "execution_count": 12,
   "id": "75703c5a-add3-43c2-b607-ae00d7bc8546",
   "metadata": {},
   "outputs": [],
   "source": [
    "Final_df = Final_df[Final_df[\"Price\"] <= 7000]"
   ]
  },
  {
   "cell_type": "code",
   "execution_count": 19,
   "id": "63ee355b-047c-4c86-a13f-27de7603bac1",
   "metadata": {},
   "outputs": [
    {
     "data": {
      "text/html": [
       "<div>\n",
       "<style scoped>\n",
       "    .dataframe tbody tr th:only-of-type {\n",
       "        vertical-align: middle;\n",
       "    }\n",
       "\n",
       "    .dataframe tbody tr th {\n",
       "        vertical-align: top;\n",
       "    }\n",
       "\n",
       "    .dataframe thead th {\n",
       "        text-align: right;\n",
       "    }\n",
       "</style>\n",
       "<table border=\"1\" class=\"dataframe\">\n",
       "  <thead>\n",
       "    <tr style=\"text-align: right;\">\n",
       "      <th></th>\n",
       "      <th>Bus_name</th>\n",
       "      <th>Bus_type</th>\n",
       "      <th>Start_time</th>\n",
       "      <th>End_time</th>\n",
       "      <th>Total_duration</th>\n",
       "      <th>Price</th>\n",
       "      <th>Seats_Available</th>\n",
       "      <th>Ratings</th>\n",
       "      <th>Route_link</th>\n",
       "      <th>Route_name</th>\n",
       "    </tr>\n",
       "  </thead>\n",
       "  <tbody>\n",
       "    <tr>\n",
       "      <th>0</th>\n",
       "      <td>APSRTC - 3722</td>\n",
       "      <td>SUPER LUXURY (NON-AC, 2 + 2 PUSH BACK)</td>\n",
       "      <td>14:30</td>\n",
       "      <td>20:45</td>\n",
       "      <td>06h 15m</td>\n",
       "      <td>412.0</td>\n",
       "      <td>30</td>\n",
       "      <td>3.2</td>\n",
       "      <td>https://www.redbus.in/bus-tickets/hyderabad-to...</td>\n",
       "      <td>Hyderabad to Vijayawada</td>\n",
       "    </tr>\n",
       "    <tr>\n",
       "      <th>1</th>\n",
       "      <td>APSRTC - 3859</td>\n",
       "      <td>DOLPHIN CRUISE (VOLVO / SCANIA A.C Multi Axle)</td>\n",
       "      <td>15:15</td>\n",
       "      <td>21:25</td>\n",
       "      <td>06h 10m</td>\n",
       "      <td>615.0</td>\n",
       "      <td>32</td>\n",
       "      <td>3.1</td>\n",
       "      <td>https://www.redbus.in/bus-tickets/hyderabad-to...</td>\n",
       "      <td>Hyderabad to Vijayawada</td>\n",
       "    </tr>\n",
       "    <tr>\n",
       "      <th>2</th>\n",
       "      <td>APSRTC - 3356</td>\n",
       "      <td>NIGHT RIDER (SEATER CUM SLEEPER)</td>\n",
       "      <td>15:45</td>\n",
       "      <td>22:45</td>\n",
       "      <td>07h 00m</td>\n",
       "      <td>639.0</td>\n",
       "      <td>33</td>\n",
       "      <td>3.8</td>\n",
       "      <td>https://www.redbus.in/bus-tickets/hyderabad-to...</td>\n",
       "      <td>Hyderabad to Vijayawada</td>\n",
       "    </tr>\n",
       "    <tr>\n",
       "      <th>3</th>\n",
       "      <td>APSRTC - 3546</td>\n",
       "      <td>AMARAVATHI (VOLVO / SCANIA A.C Multi Axle)</td>\n",
       "      <td>16:15</td>\n",
       "      <td>22:30</td>\n",
       "      <td>06h 15m</td>\n",
       "      <td>615.0</td>\n",
       "      <td>34</td>\n",
       "      <td>3.7</td>\n",
       "      <td>https://www.redbus.in/bus-tickets/hyderabad-to...</td>\n",
       "      <td>Hyderabad to Vijayawada</td>\n",
       "    </tr>\n",
       "    <tr>\n",
       "      <th>4</th>\n",
       "      <td>APSRTC - 3500</td>\n",
       "      <td>SUPER LUXURY (NON-AC, 2 + 2 PUSH BACK)</td>\n",
       "      <td>16:20</td>\n",
       "      <td>00:45</td>\n",
       "      <td>08h 25m</td>\n",
       "      <td>469.0</td>\n",
       "      <td>18</td>\n",
       "      <td>3.5</td>\n",
       "      <td>https://www.redbus.in/bus-tickets/hyderabad-to...</td>\n",
       "      <td>Hyderabad to Vijayawada</td>\n",
       "    </tr>\n",
       "    <tr>\n",
       "      <th>...</th>\n",
       "      <td>...</td>\n",
       "      <td>...</td>\n",
       "      <td>...</td>\n",
       "      <td>...</td>\n",
       "      <td>...</td>\n",
       "      <td>...</td>\n",
       "      <td>...</td>\n",
       "      <td>...</td>\n",
       "      <td>...</td>\n",
       "      <td>...</td>\n",
       "    </tr>\n",
       "    <tr>\n",
       "      <th>2358</th>\n",
       "      <td>Satadal Travels</td>\n",
       "      <td>A/C Seater (2+2)</td>\n",
       "      <td>14:56</td>\n",
       "      <td>18:15</td>\n",
       "      <td>03h 19m</td>\n",
       "      <td>170.0</td>\n",
       "      <td>40</td>\n",
       "      <td>3.8</td>\n",
       "      <td>https://www.redbus.in/bus-tickets/kolkata-to-h...</td>\n",
       "      <td>Kolkata to Haldia</td>\n",
       "    </tr>\n",
       "    <tr>\n",
       "      <th>2359</th>\n",
       "      <td>Diamond City Service</td>\n",
       "      <td>A/C Executive (2+3)</td>\n",
       "      <td>15:10</td>\n",
       "      <td>18:55</td>\n",
       "      <td>03h 45m</td>\n",
       "      <td>170.0</td>\n",
       "      <td>47</td>\n",
       "      <td>4.5</td>\n",
       "      <td>https://www.redbus.in/bus-tickets/kolkata-to-h...</td>\n",
       "      <td>Kolkata to Haldia</td>\n",
       "    </tr>\n",
       "    <tr>\n",
       "      <th>2360</th>\n",
       "      <td>Droupadi Paribahan</td>\n",
       "      <td>A/C Seater (2+3)</td>\n",
       "      <td>14:10</td>\n",
       "      <td>16:58</td>\n",
       "      <td>02h 48m</td>\n",
       "      <td>160.0</td>\n",
       "      <td>61</td>\n",
       "      <td>2.7</td>\n",
       "      <td>https://www.redbus.in/bus-tickets/kolkata-to-h...</td>\n",
       "      <td>Kolkata to Haldia</td>\n",
       "    </tr>\n",
       "    <tr>\n",
       "      <th>2361</th>\n",
       "      <td>KRISHNAKALI</td>\n",
       "      <td>A/C Seater (2+3)</td>\n",
       "      <td>14:45</td>\n",
       "      <td>17:30</td>\n",
       "      <td>02h 45m</td>\n",
       "      <td>165.0</td>\n",
       "      <td>61</td>\n",
       "      <td>2.2</td>\n",
       "      <td>https://www.redbus.in/bus-tickets/kolkata-to-h...</td>\n",
       "      <td>Kolkata to Haldia</td>\n",
       "    </tr>\n",
       "    <tr>\n",
       "      <th>2362</th>\n",
       "      <td>Droupadi Bus Service</td>\n",
       "      <td>Non AC Seater (2+3)</td>\n",
       "      <td>16:20</td>\n",
       "      <td>19:10</td>\n",
       "      <td>02h 50m</td>\n",
       "      <td>121.0</td>\n",
       "      <td>54</td>\n",
       "      <td>2.7</td>\n",
       "      <td>https://www.redbus.in/bus-tickets/kolkata-to-h...</td>\n",
       "      <td>Kolkata to Haldia</td>\n",
       "    </tr>\n",
       "  </tbody>\n",
       "</table>\n",
       "<p>2363 rows × 10 columns</p>\n",
       "</div>"
      ],
      "text/plain": [
       "                  Bus_name                                        Bus_type  \\\n",
       "0            APSRTC - 3722          SUPER LUXURY (NON-AC, 2 + 2 PUSH BACK)   \n",
       "1            APSRTC - 3859  DOLPHIN CRUISE (VOLVO / SCANIA A.C Multi Axle)   \n",
       "2            APSRTC - 3356                NIGHT RIDER (SEATER CUM SLEEPER)   \n",
       "3            APSRTC - 3546      AMARAVATHI (VOLVO / SCANIA A.C Multi Axle)   \n",
       "4            APSRTC - 3500          SUPER LUXURY (NON-AC, 2 + 2 PUSH BACK)   \n",
       "...                    ...                                             ...   \n",
       "2358       Satadal Travels                                A/C Seater (2+2)   \n",
       "2359  Diamond City Service                             A/C Executive (2+3)   \n",
       "2360    Droupadi Paribahan                                A/C Seater (2+3)   \n",
       "2361           KRISHNAKALI                                A/C Seater (2+3)   \n",
       "2362  Droupadi Bus Service                             Non AC Seater (2+3)   \n",
       "\n",
       "     Start_time End_time Total_duration  Price  Seats_Available  Ratings  \\\n",
       "0         14:30    20:45        06h 15m  412.0               30      3.2   \n",
       "1         15:15    21:25        06h 10m  615.0               32      3.1   \n",
       "2         15:45    22:45        07h 00m  639.0               33      3.8   \n",
       "3         16:15    22:30        06h 15m  615.0               34      3.7   \n",
       "4         16:20    00:45        08h 25m  469.0               18      3.5   \n",
       "...         ...      ...            ...    ...              ...      ...   \n",
       "2358      14:56    18:15        03h 19m  170.0               40      3.8   \n",
       "2359      15:10    18:55        03h 45m  170.0               47      4.5   \n",
       "2360      14:10    16:58        02h 48m  160.0               61      2.7   \n",
       "2361      14:45    17:30        02h 45m  165.0               61      2.2   \n",
       "2362      16:20    19:10        02h 50m  121.0               54      2.7   \n",
       "\n",
       "                                             Route_link  \\\n",
       "0     https://www.redbus.in/bus-tickets/hyderabad-to...   \n",
       "1     https://www.redbus.in/bus-tickets/hyderabad-to...   \n",
       "2     https://www.redbus.in/bus-tickets/hyderabad-to...   \n",
       "3     https://www.redbus.in/bus-tickets/hyderabad-to...   \n",
       "4     https://www.redbus.in/bus-tickets/hyderabad-to...   \n",
       "...                                                 ...   \n",
       "2358  https://www.redbus.in/bus-tickets/kolkata-to-h...   \n",
       "2359  https://www.redbus.in/bus-tickets/kolkata-to-h...   \n",
       "2360  https://www.redbus.in/bus-tickets/kolkata-to-h...   \n",
       "2361  https://www.redbus.in/bus-tickets/kolkata-to-h...   \n",
       "2362  https://www.redbus.in/bus-tickets/kolkata-to-h...   \n",
       "\n",
       "                   Route_name  \n",
       "0     Hyderabad to Vijayawada  \n",
       "1     Hyderabad to Vijayawada  \n",
       "2     Hyderabad to Vijayawada  \n",
       "3     Hyderabad to Vijayawada  \n",
       "4     Hyderabad to Vijayawada  \n",
       "...                       ...  \n",
       "2358        Kolkata to Haldia  \n",
       "2359        Kolkata to Haldia  \n",
       "2360        Kolkata to Haldia  \n",
       "2361        Kolkata to Haldia  \n",
       "2362        Kolkata to Haldia  \n",
       "\n",
       "[2363 rows x 10 columns]"
      ]
     },
     "execution_count": 19,
     "metadata": {},
     "output_type": "execute_result"
    }
   ],
   "source": [
    "Final_df"
   ]
  },
  {
   "cell_type": "code",
   "execution_count": 13,
   "id": "ad3b1fe0-4643-447c-82b0-0e7e50093f37",
   "metadata": {},
   "outputs": [],
   "source": [
    "# replacing the nan value\n",
    "Final_df = Final_df.replace({np.nan: None})"
   ]
  },
  {
   "cell_type": "code",
   "execution_count": 14,
   "id": "f5c5e505-f1a3-4587-9747-2b336aade460",
   "metadata": {},
   "outputs": [],
   "source": [
    "# change dataframe to csv\n",
    "path=r\"C:\\Users\\gokul\\Desktop\\capstoneproject\\redbus\\final_busdetails_df.csv\"\n",
    "Final_df.to_csv(path,index=False)"
   ]
  },
  {
   "cell_type": "code",
   "execution_count": 20,
   "id": "26997967-db72-4a33-9f71-3ee61990b1fb",
   "metadata": {},
   "outputs": [
    {
     "data": {
      "text/plain": [
       "0       30\n",
       "1       32\n",
       "2       33\n",
       "3       34\n",
       "4       18\n",
       "        ..\n",
       "2358    40\n",
       "2359    47\n",
       "2360    61\n",
       "2361    61\n",
       "2362    54\n",
       "Name: Seats_Available, Length: 2363, dtype: int64"
      ]
     },
     "execution_count": 20,
     "metadata": {},
     "output_type": "execute_result"
    }
   ],
   "source": [
    "Final_df[\"Seats_Available\"]"
   ]
  },
  {
   "cell_type": "code",
   "execution_count": 21,
   "id": "d0e24377-a46e-41a4-9968-259c4012ec67",
   "metadata": {},
   "outputs": [
    {
     "ename": "NameError",
     "evalue": "name 'Seat_availability_range' is not defined",
     "output_type": "error",
     "traceback": [
      "\u001b[1;31m---------------------------------------------------------------------------\u001b[0m",
      "\u001b[1;31mNameError\u001b[0m                                 Traceback (most recent call last)",
      "Cell \u001b[1;32mIn[21], line 1\u001b[0m\n\u001b[1;32m----> 1\u001b[0m \u001b[38;5;28mprint\u001b[39m(\u001b[38;5;28mtype\u001b[39m(\u001b[43mSeat_availability_range\u001b[49m[\u001b[38;5;241m0\u001b[39m]), \u001b[38;5;28mtype\u001b[39m(Seat_availability_range[\u001b[38;5;241m1\u001b[39m]))\n",
      "\u001b[1;31mNameError\u001b[0m: name 'Seat_availability_range' is not defined"
     ]
    }
   ],
   "source": [
    "print(type(Seat_availability_range[0]), type(Seat_availability_range[1]))\n"
   ]
  },
  {
   "cell_type": "markdown",
   "id": "1ecd1430-83d9-47bc-bc37-ca3cb5235c56",
   "metadata": {},
   "source": [
    "# Create Sql connection"
   ]
  },
  {
   "cell_type": "code",
   "execution_count": 16,
   "id": "f2d2a9a8-3db2-4214-bca9-4c145efea21e",
   "metadata": {},
   "outputs": [
    {
     "data": {
      "text/plain": [
       "<pymysql.cursors.Cursor at 0x1d09b613770>"
      ]
     },
     "execution_count": 16,
     "metadata": {},
     "output_type": "execute_result"
    }
   ],
   "source": [
    "import pymysql\n",
    "connection = pymysql.connect(\n",
    "    host='localhost',  # Your host\n",
    "    user='root',       # Your MySQL username\n",
    "    password='123456789',  # Your MySQL password\n",
    "    \n",
    ")\n",
    "mycursor = connection.cursor()\n",
    "mycursor"
   ]
  },
  {
   "cell_type": "code",
   "execution_count": 17,
   "id": "55ec2be0-d20b-4e56-b5b9-134294e3f0a0",
   "metadata": {},
   "outputs": [
    {
     "data": {
      "text/plain": [
       "1"
      ]
     },
     "execution_count": 17,
     "metadata": {},
     "output_type": "execute_result"
    }
   ],
   "source": [
    "query = \"drop database RED_BUS_DETAILS\"\n",
    "mycursor.execute(query)"
   ]
  },
  {
   "cell_type": "code",
   "execution_count": 18,
   "id": "15b61e6c-a150-4d53-9523-f5424f55236e",
   "metadata": {},
   "outputs": [
    {
     "name": "stdout",
     "output_type": "stream",
     "text": [
      "Table Created successfully\n"
     ]
    }
   ],
   "source": [
    "# Table Creation\n",
    "mycursor.execute(\"CREATE DATABASE IF NOT EXISTS RED_BUS_DETAILS\")\n",
    "mycursor.execute(\"USE RED_BUS_DETAILS\")\n",
    "mycursor.execute('''CREATE TABLE IF NOT EXISTS bus_details(\n",
    "                  ID INT AUTO_INCREMENT PRIMARY KEY,\n",
    "                  Bus_name VARCHAR(255) NOT NULL,\n",
    "                  Bus_type VARCHAR(255) NOT NULL,\n",
    "                  Start_time VARCHAR(255) NOT NULL,\n",
    "                  End_time VARCHAR(255) NOT NULL,\n",
    "                  Total_duration VARCHAR(255) NOT NULL,\n",
    "                  Price FLOAT NULL,\n",
    "                  Seats_Available VARCHAR(255) NOT NULL,\n",
    "                  Ratings Float NULL,\n",
    "                  Route_link VARCHAR(255) NULL,\n",
    "                  Route_name VARCHAR(255) NULL\n",
    "                  )''')\n",
    "print(\"Table Created successfully\")"
   ]
  },
  {
   "cell_type": "code",
   "execution_count": 19,
   "id": "973d6cc1-354c-45c9-a1d1-5bcd49f2b22b",
   "metadata": {},
   "outputs": [
    {
     "name": "stdout",
     "output_type": "stream",
     "text": [
      "Values inserted successfully\n"
     ]
    }
   ],
   "source": [
    "# SQL query to insert data into bus_details table\n",
    "insert_query = '''INSERT INTO bus_details(\n",
    "                    Bus_name,\n",
    "                    Bus_type,\n",
    "                    Start_time,\n",
    "                    End_time,\n",
    "                    Total_duration,\n",
    "                    Price,\n",
    "                    Seats_Available,\n",
    "                    Ratings,\n",
    "                    Route_link,\n",
    "                    Route_name)\n",
    "                  VALUES(%s, %s, %s, %s, %s, %s, %s, %s, %s, %s)'''\n",
    "data = Final_df.values.tolist()\n",
    "\n",
    "mycursor.executemany(insert_query, data)\n",
    "\n",
    "connection.commit()\n",
    "\n",
    "print(\"Values inserted successfully\")"
   ]
  },
  {
   "cell_type": "code",
   "execution_count": 14,
   "id": "4cda3d42-66d2-4910-a1d9-27cf127d5dd1",
   "metadata": {},
   "outputs": [
    {
     "name": "stdout",
     "output_type": "stream",
     "text": [
      "Collecting SQLAlchemy\n",
      "  Downloading SQLAlchemy-2.0.38-cp313-cp313-win_amd64.whl.metadata (9.9 kB)\n",
      "Collecting greenlet!=0.4.17 (from SQLAlchemy)\n",
      "  Downloading greenlet-3.1.1-cp313-cp313-win_amd64.whl.metadata (3.9 kB)\n",
      "Requirement already satisfied: typing-extensions>=4.6.0 in c:\\users\\gokul\\appdata\\local\\programs\\python\\python313\\lib\\site-packages (from SQLAlchemy) (4.12.2)\n",
      "Downloading SQLAlchemy-2.0.38-cp313-cp313-win_amd64.whl (2.1 MB)\n",
      "   ---------------------------------------- 0.0/2.1 MB ? eta -:--:--\n",
      "   ----------------------------------- ---- 1.8/2.1 MB 13.6 MB/s eta 0:00:01\n",
      "   ---------------------------------------- 2.1/2.1 MB 6.7 MB/s eta 0:00:00\n",
      "Downloading greenlet-3.1.1-cp313-cp313-win_amd64.whl (299 kB)\n",
      "Installing collected packages: greenlet, SQLAlchemy\n",
      "Successfully installed SQLAlchemy-2.0.38 greenlet-3.1.1\n",
      "Note: you may need to restart the kernel to use updated packages.\n"
     ]
    },
    {
     "name": "stderr",
     "output_type": "stream",
     "text": [
      "\n",
      "[notice] A new release of pip is available: 24.3.1 -> 25.0.1\n",
      "[notice] To update, run: python.exe -m pip install --upgrade pip\n"
     ]
    }
   ],
   "source": [
    "pip install SQLAlchemy"
   ]
  },
  {
   "cell_type": "code",
   "execution_count": null,
   "id": "6ae9fdd1-9574-4d0e-ba3e-c9b1aac2777b",
   "metadata": {},
   "outputs": [],
   "source": []
  }
 ],
 "metadata": {
  "kernelspec": {
   "display_name": "Python 3 (ipykernel)",
   "language": "python",
   "name": "python3"
  },
  "language_info": {
   "codemirror_mode": {
    "name": "ipython",
    "version": 3
   },
   "file_extension": ".py",
   "mimetype": "text/x-python",
   "name": "python",
   "nbconvert_exporter": "python",
   "pygments_lexer": "ipython3",
   "version": "3.13.0"
  }
 },
 "nbformat": 4,
 "nbformat_minor": 5
}
